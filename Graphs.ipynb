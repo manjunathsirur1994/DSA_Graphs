{
  "nbformat": 4,
  "nbformat_minor": 0,
  "metadata": {
    "colab": {
      "provenance": [],
      "authorship_tag": "ABX9TyNJwpJQJ1T+C0YRDW3PQs+Z",
      "include_colab_link": true
    },
    "kernelspec": {
      "name": "python3",
      "display_name": "Python 3"
    },
    "language_info": {
      "name": "python"
    }
  },
  "cells": [
    {
      "cell_type": "markdown",
      "metadata": {
        "id": "view-in-github",
        "colab_type": "text"
      },
      "source": [
        "<a href=\"https://colab.research.google.com/github/manjunathsirur1994/DSA_Graphs/blob/main/Graphs.ipynb\" target=\"_parent\"><img src=\"https://colab.research.google.com/assets/colab-badge.svg\" alt=\"Open In Colab\"/></a>"
      ]
    },
    {
      "cell_type": "markdown",
      "source": [
        "## Check If Eulerian Cycle Exists\n",
        "\n",
        "Check if there exists any eulerian cycle in a given undirected connected graph. The Euler cycle is a path in the graph that visits every edge exactly once and starts and finishes at the same vertex.\n",
        "\n",
        "![image.png](data:image/png;base64,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)"
      ],
      "metadata": {
        "id": "G9UxFXsgIE_b"
      }
    },
    {
      "cell_type": "code",
      "execution_count": 1,
      "metadata": {
        "id": "8QkC0zwbHvjF"
      },
      "outputs": [],
      "source": [
        "from collections import defaultdict, deque"
      ]
    },
    {
      "cell_type": "code",
      "source": [
        "n = 5\n",
        "edges = [[0, 1], [1, 2], [2, 0], [0, 3], [3, 4], [4, 0]]"
      ],
      "metadata": {
        "id": "bD3IxzOZH4sn"
      },
      "execution_count": 2,
      "outputs": []
    },
    {
      "cell_type": "code",
      "source": [],
      "metadata": {
        "id": "HQo1-ma3H7Wi"
      },
      "execution_count": null,
      "outputs": []
    }
  ]
}